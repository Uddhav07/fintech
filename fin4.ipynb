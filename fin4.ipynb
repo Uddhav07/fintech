{
  "nbformat": 4,
  "nbformat_minor": 0,
  "metadata": {
    "colab": {
      "private_outputs": true,
      "provenance": [],
      "authorship_tag": "ABX9TyM/TLMi7cBGo6HCHw38VwsH"
    },
    "kernelspec": {
      "name": "python3",
      "display_name": "Python 3"
    },
    "language_info": {
      "name": "python"
    }
  },
  "cells": [
    {
      "cell_type": "markdown",
      "source": [
        "importing data"
      ],
      "metadata": {
        "id": "EOjZvHq7uSjV"
      }
    },
    {
      "cell_type": "code",
      "execution_count": null,
      "metadata": {
        "id": "M51N-gU_grpG"
      },
      "outputs": [],
      "source": [
        "import pandas as pd"
      ]
    },
    {
      "cell_type": "code",
      "source": [
        "url=\"https://github.com/Uddhav07/fintech/raw/main/loan-test.csv\"\n",
        "test = pd.read_csv(url)"
      ],
      "metadata": {
        "id": "oFCM_oclrAMH"
      },
      "execution_count": null,
      "outputs": []
    },
    {
      "cell_type": "code",
      "source": [
        "url=\"https://github.com/Uddhav07/fintech/raw/main/loan-train.csv\"\n",
        "train= pd.read_csv(url)"
      ],
      "metadata": {
        "id": "Wv0OMHEAsip-"
      },
      "execution_count": null,
      "outputs": []
    },
    {
      "cell_type": "code",
      "source": [
        "test = test.drop('Credit_History', axis=1)\n",
        "train = train.drop('Credit_History', axis=1)"
      ],
      "metadata": {
        "id": "V9fT742rs3iT"
      },
      "execution_count": null,
      "outputs": []
    },
    {
      "cell_type": "markdown",
      "source": [
        "cleaning data"
      ],
      "metadata": {
        "id": "bicGWFIouXGN"
      }
    },
    {
      "cell_type": "code",
      "source": [],
      "metadata": {
        "id": "-qST_qmktDaX"
      },
      "execution_count": null,
      "outputs": []
    },
    {
      "cell_type": "markdown",
      "source": [
        "modelling"
      ],
      "metadata": {
        "id": "VBd1mCMcuaBs"
      }
    },
    {
      "cell_type": "code",
      "source": [],
      "metadata": {
        "id": "WQuy73MDuqao"
      },
      "execution_count": null,
      "outputs": []
    },
    {
      "cell_type": "code",
      "source": [],
      "metadata": {
        "id": "RbpsqruAusgD"
      },
      "execution_count": null,
      "outputs": []
    }
  ]
}